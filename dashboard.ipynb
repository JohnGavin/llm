{
  "cells": [
    {
      "cell_type": "raw",
      "metadata": {},
      "source": [
        "---\n",
        "title: \"Palmer Penguins\"\n",
        "format: \n",
        "    dashboard\n",
        "    # html\n",
        "---"
      ],
      "id": "9ff63133"
    },
    {
      "cell_type": "markdown",
      "metadata": {},
      "source": [
        "# My Dashboard\n",
        "first page\n",
        "\n",
        "## Row {height=70%, .panel-tabset=true}"
      ],
      "id": "aabd72d5"
    },
    {
      "cell_type": "markdown",
      "metadata": {},
      "source": [
        "# Your content for the first page goes here\n",
        "\n",
        "## Tab 1\n",
        "Your content for the first tab goes here.\n",
        "\n",
        "## Tab 2\n",
        "Your content for the second tab goes here.\n",
        "\n",
        "\n",
        "## Row {height=30%}\n",
        "# Your content for the second page goes here\n"
      ],
      "id": "c0ba365b"
    }
  ],
  "metadata": {
    "kernelspec": {
      "name": "python3",
      "language": "python",
      "display_name": "Python 3 (ipykernel)"
    }
  },
  "nbformat": 4,
  "nbformat_minor": 5
}